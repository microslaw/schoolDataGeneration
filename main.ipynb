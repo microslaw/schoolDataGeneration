{
 "cells": [
  {
   "cell_type": "code",
   "execution_count": 39,
   "metadata": {},
   "outputs": [
    {
     "name": "stdout",
     "output_type": "stream",
     "text": [
      "The autoreload extension is already loaded. To reload it, use:\n",
      "  %reload_ext autoreload\n"
     ]
    }
   ],
   "source": [
    "%load_ext autoreload\n",
    "%autoreload 2\n",
    "\n",
    "import warnings\n",
    "warnings.simplefilter(action='ignore', category=FutureWarning)\n",
    "\n",
    "\n",
    "import pandas as pd\n",
    "import numpy as np\n",
    "\n",
    "from utils import defaultCityDistricts, defaultCityDistrictsTrendDict, mkdir\n",
    "import trends\n",
    "\n",
    "import classroom\n",
    "import teachers\n",
    "import course\n",
    "import aClass\n",
    "import students\n",
    "import meeting\n",
    "import exams\n",
    "import surveys\n",
    "import attendance\n"
   ]
  },
  {
   "cell_type": "code",
   "execution_count": 32,
   "metadata": {},
   "outputs": [
    {
     "name": "stdout",
     "output_type": "stream",
     "text": [
      "Generating schedule for 7 days between 2022-06-27 and 2022-09-5\n",
      "Starting at 2024-04-14 23:35:45.134117\n",
      "\n",
      "|2022-06-27|>>>|2022-06-27|>>>|2022-09-5|14.29%   ETC:0:00:03s\n",
      "|2022-06-27|>>>|2022-06-28|>>>|2022-09-5|28.57%   ETC:0:00:02s\n",
      "|2022-06-27|>>>|2022-06-29|>>>|2022-09-5|42.86%   ETC:0:00:02s\n",
      "|2022-06-27|>>>|2022-06-30|>>>|2022-09-5|57.14%   ETC:0:00:01s\n",
      "|2022-06-27|>>>|2022-09-01|>>>|2022-09-5|71.43%   ETC:0:00:01s\n",
      "|2022-06-27|>>>|2022-09-02|>>>|2022-09-5|85.71%   ETC:0:00:00s\n",
      "|2022-06-27|>>>|2022-09-05|>>>|2022-09-5|100.0%   ETC:0:00:00s\n"
     ]
    }
   ],
   "source": [
    "# This cell generates data\n",
    "\"\"\"\n",
    "May enter infinite loop if:\n",
    "  - not enough teachers are generated\n",
    "  - not enough students are generated\n",
    "  - not enough classrooms are generated\n",
    "  - too many courses per day need to be scheduled\n",
    "if that happens restart the kernel, adjust tuple counts, and run the code again\n",
    "\"\"\"\n",
    "\n",
    "\n",
    "df_classrooms = classroom.generate(357, 999)\n",
    "df_teachers = teachers.generate(300)\n",
    "df_courses = course.generate(300, df_teachers)\n",
    "df_classes, df_courses = aClass.generate(10, df_teachers, df_courses)\n",
    "df_students = students.generate(800, df_classes)\n",
    "df_meetings = meeting.generate(0, df_courses, df_classrooms, df_classes, \"2022-06-27\", \"2022-09-5\")\n",
    "df_exams = exams.generate(0, df_meetings, df_students)\n",
    "df_surveys = surveys.generate(0, df_meetings, df_students, df_courses)\n",
    "df_attendance = attendance.generate(0, df_meetings, df_students, df_teachers, df_courses)"
   ]
  },
  {
   "cell_type": "code",
   "execution_count": 33,
   "metadata": {},
   "outputs": [],
   "source": [
    "#This cell adds trend: people from different city districts have different scores\n",
    "\n",
    "df_housing_trend = df_students.copy()\n",
    "df_housing_trend[\"score\"] = df_housing_trend[\"CityDistrict\"].map(defaultCityDistrictsTrendDict)/50\n",
    "df_housing_trend = df_housing_trend[[\"sID\", \"score\"]]\n",
    "trendDict = { sID: score for sID, score in zip(df_housing_trend[\"sID\"], df_housing_trend[\"score\"]) }\n",
    "trends.addTrendAdditive(df_surveys, \"sID\", trendDict , \"Score\", 0, 20)\n"
   ]
  },
  {
   "cell_type": "code",
   "execution_count": null,
   "metadata": {},
   "outputs": [],
   "source": [
    "#This cell loads data from csv files\n",
    "\n",
    "path = \"data\"\n",
    "\n",
    "df_classrooms = pd.read_csv(f\"{path}/classrooms.csv\")\n",
    "df_teachers = pd.read_csv(f\"{path}/teachers.csv\")\n",
    "df_courses = pd.read_csv(f\"{path}/courses.csv\")\n",
    "df_classes = pd.read_csv(f\"{path}/classes.csv\")\n",
    "df_students = pd.read_csv(f\"{path}/students.csv\")\n",
    "df_meetings = pd.read_csv(f\"{path}/meetings.csv\")\n",
    "df_exams = pd.read_csv(f\"{path}/exams.csv\")\n",
    "df_surveys = pd.read_csv(f\"{path}/surveys.csv\")\n",
    "df_attendance = pd.read_csv(f\"{path}/attendance.csv\")"
   ]
  },
  {
   "cell_type": "code",
   "execution_count": 35,
   "metadata": {},
   "outputs": [
    {
     "name": "stdout",
     "output_type": "stream",
     "text": [
      "Removed 0 classrooms\n",
      "Removed 86 teachers\n",
      "Removed 23 courses\n",
      "Removed 0 classes\n"
     ]
    }
   ],
   "source": [
    "#This cell purges unused rows\n",
    "size =len(df_classrooms)\n",
    "df_classrooms = df_classrooms[df_classrooms[\"RoomNumber\"].isin(df_meetings[\"RoomNumber\"])]\n",
    "df_classrooms_removed = df_classrooms[~df_classrooms[\"RoomNumber\"].isin(df_meetings[\"RoomNumber\"])]\n",
    "print(f\"Removed {size - len(df_classrooms)} classrooms\")\n",
    "\n",
    "size =len(df_teachers)\n",
    "df_teachers = df_teachers[df_teachers[\"tID\"].isin(pd.concat([df_classes[\"tID\"], df_courses[\"tID\"]]).unique())]\n",
    "df_teachers_removed = df_teachers[~df_teachers[\"tID\"].isin(df_classes[\"tID\"] + df_courses[\"tID\"])]\n",
    "print(f\"Removed {size - len(df_teachers)} teachers\")\n",
    "\n",
    "size =len(df_courses)\n",
    "df_courses = df_courses[df_courses[\"cID\"].isin(df_classes[\"courses\"].explode().unique())]\n",
    "df_courses_removed = df_courses[~df_courses[\"cID\"].isin(df_classes[\"courses\"].explode().unique())]\n",
    "print(f\"Removed {size - len(df_courses)} courses\")\n",
    "\n",
    "size =len(df_classes)\n",
    "df_classes = df_classes[df_classes[\"ClassName\"].isin(df_students[\"ClassName\"])]\n",
    "df_courses_classes = df_classes[~df_classes[\"ClassName\"].isin(df_students[\"ClassName\"])]\n",
    "print(f\"Removed {size - len(df_classes)} classes\")"
   ]
  },
  {
   "cell_type": "code",
   "execution_count": 63,
   "metadata": {},
   "outputs": [
    {
     "name": "stdout",
     "output_type": "stream",
     "text": [
      "Directory data already exists\n"
     ]
    }
   ],
   "source": [
    "#This cell prepares data for database\n",
    "\n",
    "path = \"data\"\n",
    "headers = False\n",
    "indexing = False\n",
    "\n",
    "mkdir(path)\n",
    "\n",
    "df_students.drop(columns=[\"iq\"]).to_csv(f\"{path}/students.csv\", index=indexing, header=headers)\n",
    "df_classes.drop(columns=[\"Year\", \"courses\"]).to_csv(f\"{path}/classes.csv\", index=indexing, header=headers)\n",
    "df_teachers.to_csv(f\"{path}/teachers.csv\", index=indexing, header=headers)\n",
    "df_courses.to_csv(f\"{path}/courses.csv\", index=indexing, header=headers)\n",
    "df_classrooms.to_csv(f\"{path}/classrooms.csv\", index=indexing, header=headers)\n",
    "df_meetings.drop(columns=[\"StartHour\", \"EndHour\", \"Year\", \"Month\"]).to_csv(f\"{path}/meetings.csv\", index=indexing, header=headers)\n",
    "df_surveys.to_csv(f\"{path}/surveys.csv\", index=indexing, header=headers)\n",
    "df_exams.to_csv(f\"{path}/exams.csv\", index=indexing, header=headers)\n",
    "df_attendance.to_csv(f\"{path}/attendance.csv\", index=indexing, header=headers)\n"
   ]
  },
  {
   "cell_type": "code",
   "execution_count": null,
   "metadata": {},
   "outputs": [],
   "source": [
    "#This cell prepares data for backup, in format not suitable for database\n",
    "\n",
    "path = \"backup\"\n",
    "headers = True\n",
    "indexing = False\n",
    "\n",
    "mkdir(path)\n",
    "\n",
    "df_students.to_csv(f\"{path}/students.csv\", index=indexing, header=headers)\n",
    "df_classes.to_csv(f\"{path}/classes.csv\", index=indexing, header=headers)\n",
    "df_teachers.to_csv(f\"{path}/teachers.csv\", index=indexing, header=headers)\n",
    "df_courses.to_csv(f\"{path}/courses.csv\", index=indexing, header=headers)\n",
    "df_classrooms.to_csv(f\"{path}/classrooms.csv\", index=indexing, header=headers)\n",
    "df_meetings.to_csv(f\"{path}/meetings.csv\", index=indexing, header=headers)\n",
    "df_surveys.to_csv(f\"{path}/surveys.csv\", index=indexing, header=headers)\n",
    "df_exams.to_csv(f\"{path}/exams.csv\", index=indexing, header=headers)\n",
    "df_attendance.to_csv(f\"{path}/attendance.csv\", index=indexing, header=headers)"
   ]
  },
  {
   "cell_type": "code",
   "execution_count": 37,
   "metadata": {},
   "outputs": [
    {
     "name": "stdout",
     "output_type": "stream",
     "text": [
      "Directory updates already exists\n"
     ]
    }
   ],
   "source": [
    "path = \"updates\"\n",
    "\n",
    "mkdir(path)\n",
    "\n",
    "df = df_teachers.sample(n=15)\n",
    "df[\"CityDistrict2\"] = df[\"CityDistrict\"].apply(lambda x: np.random.choice([y for y in defaultCityDistricts if y != x]))\n",
    "df[\"update\"] = df.apply(lambda x: f\"Update Teachers SET CityDistrict = '{x['CityDistrict2']}' WHERE tID = {x['tID']};\", axis=1)\n",
    "df[\"update\"].to_csv(f\"{path}/updateTeachersCity.sql\", index=False, header=False)\n",
    "\n",
    "df = df_students.sample(n=15)\n",
    "df[\"CityDistrict2\"] = df[\"CityDistrict\"].apply(lambda x: np.random.choice([y for y in defaultCityDistricts if y != x]))\n",
    "df[\"update\"] = df.apply(lambda x: f\"Update Students SET CityDistrict = '{x['CityDistrict2']}' WHERE sID = {x['sID']};\", axis=1)\n",
    "df[\"update\"].to_csv(f\"{path}/updateStudentsCity.sql\", index=False, header=False)\n",
    "\n",
    "df = df_students.sample(n=15)\n",
    "df[\"ClassName2\"] = df[\"ClassName\"].apply(lambda x: np.random.choice([y for y in df_classes[\"ClassName\"].unique() if y != x]))\n",
    "df[\"update\"] = df.apply(lambda x: f\"Update Students SET ClassName = '{x['ClassName']}' WHERE sID = {x['sID']};\", axis=1)\n",
    "df[\"update\"].to_csv(f\"{path}/updateStudentsClass.sql\", index=False, header=False)\n",
    "\n",
    "df = df_classes.sample(n=15)\n",
    "df[\"tID2\"] = df[\"tID\"].apply(lambda x: np.random.choice([y for y in df_classes[\"ClassName\"].unique() if y != x]))\n",
    "df[\"update\"] = df.apply(lambda x: f\"Update Class SET tID = '{x['tID']}' WHERE ClassName = '{x['ClassName']}';\", axis=1)\n",
    "df[\"update\"].to_csv(f\"{path}/updateClassesTeacher.sql\", index=False, header=False)"
   ]
  },
  {
   "cell_type": "code",
   "execution_count": null,
   "metadata": {},
   "outputs": [],
   "source": []
  }
 ],
 "metadata": {
  "kernelspec": {
   "display_name": "Python 3",
   "language": "python",
   "name": "python3"
  },
  "language_info": {
   "codemirror_mode": {
    "name": "ipython",
    "version": 3
   },
   "file_extension": ".py",
   "mimetype": "text/x-python",
   "name": "python",
   "nbconvert_exporter": "python",
   "pygments_lexer": "ipython3",
   "version": "3.12.2"
  }
 },
 "nbformat": 4,
 "nbformat_minor": 2
}
