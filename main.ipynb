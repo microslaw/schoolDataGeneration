{
 "cells": [
  {
   "cell_type": "code",
   "execution_count": 15,
   "metadata": {},
   "outputs": [
    {
     "name": "stdout",
     "output_type": "stream",
     "text": [
      "The autoreload extension is already loaded. To reload it, use:\n",
      "  %reload_ext autoreload\n"
     ]
    }
   ],
   "source": [
    "%load_ext autoreload\n",
    "%autoreload 2\n",
    "\n",
    "import pandas as pd\n",
    "import numpy as np\n",
    "from utils import defaultCityDistricts\n",
    "\n",
    "import classroom\n",
    "import teachers\n",
    "import course\n",
    "import aClass\n",
    "import students\n",
    "import meeting\n",
    "import exams\n",
    "import surveys\n",
    "import attendance\n"
   ]
  },
  {
   "cell_type": "code",
   "execution_count": 16,
   "metadata": {},
   "outputs": [],
   "source": [
    "df_classrooms = pd.read_csv('dataFullSnapshot1/classrooms.csv')\n",
    "# df_classrooms = classroom.generate(357, 999)"
   ]
  },
  {
   "cell_type": "code",
   "execution_count": 17,
   "metadata": {},
   "outputs": [],
   "source": [
    "df_teachers = pd.read_csv('dataFullSnapshot1/teachers.csv')\n",
    "# df_teachers = teachers.generate(300)"
   ]
  },
  {
   "cell_type": "code",
   "execution_count": 18,
   "metadata": {},
   "outputs": [],
   "source": [
    "df_courses = pd.read_csv('dataFullSnapshot1/courses.csv')\n",
    "# df_courses = course.generate(300, df_teachers)"
   ]
  },
  {
   "cell_type": "code",
   "execution_count": 19,
   "metadata": {},
   "outputs": [],
   "source": [
    "df_classes = pd.read_csv('dataFullSnapshot1/classes.csv')\n",
    "# df_classes, df_courses = aClass.generate(10, df_teachers, df_courses)"
   ]
  },
  {
   "cell_type": "code",
   "execution_count": 20,
   "metadata": {},
   "outputs": [],
   "source": [
    "df_students = pd.read_csv('dataFullSnapshot1/students.csv')\n",
    "# df_students = students.generate(800, df_classes)"
   ]
  },
  {
   "cell_type": "code",
   "execution_count": 21,
   "metadata": {},
   "outputs": [],
   "source": [
    "# may enter infinite loop; if it happens restart the kernel and run the code again\n",
    "df_meetings = pd.read_csv('data/meetings.csv')\n",
    "# df_meetings = meeting.generate(0, df_courses, df_classrooms, df_classes, \"2017-09-01\", \"2022-07-01\")"
   ]
  },
  {
   "cell_type": "code",
   "execution_count": 22,
   "metadata": {},
   "outputs": [],
   "source": [
    "df_exams = pd.read_csv('data/exams.csv')\n",
    "# df_exams = exams.generate(0, df_meetings, df_students)"
   ]
  },
  {
   "cell_type": "code",
   "execution_count": 23,
   "metadata": {},
   "outputs": [],
   "source": [
    "df_surveys = pd.read_csv('data/surveys.csv')\n",
    "# df_surveys = surveys.generate(0, df_meetings, df_students, df_courses)"
   ]
  },
  {
   "cell_type": "code",
   "execution_count": 24,
   "metadata": {},
   "outputs": [],
   "source": [
    "df_attendance = pd.read_csv('data/attendance.csv')\n",
    "# df_attendance = attendance.generate(0, df_meetings, df_students, df_teachers, df_courses)"
   ]
  },
  {
   "cell_type": "code",
   "execution_count": null,
   "metadata": {},
   "outputs": [],
   "source": [
    "#purging unused rows\n",
    "size =len(df_classrooms)\n",
    "df_classrooms = df_classrooms[df_classrooms[\"RoomNumber\"].isin(df_meetings[\"RoomNumber\"])]\n",
    "df_classrooms_removed = df_classrooms[~df_classrooms[\"RoomNumber\"].isin(df_meetings[\"RoomNumber\"])]\n",
    "print(f\"Removed {size - len(df_classrooms)} classrooms\")\n",
    "\n",
    "size =len(df_teachers)\n",
    "df_teachers = df_teachers[df_teachers[\"tID\"].isin(pd.concat([df_classes[\"tID\"], df_courses[\"tID\"]]).unique())]\n",
    "df_teachers_removed = df_teachers[~df_teachers[\"tID\"].isin(df_classes[\"tID\"] + df_courses[\"tID\"])]\n",
    "print(f\"Removed {size - len(df_teachers)} teachers\")\n",
    "\n",
    "size =len(df_courses)\n",
    "df_courses = df_courses[df_courses[\"cID\"].isin(df_classes[\"courses\"].explode().unique())]\n",
    "df_courses_removed = df_courses[~df_courses[\"cID\"].isin(df_classes[\"courses\"].explode().unique())]\n",
    "print(f\"Removed {size - len(df_courses)} courses\")\n",
    "\n",
    "size =len(df_classes)\n",
    "df_classes = df_classes[df_classes[\"ClassName\"].isin(df_students[\"ClassName\"])]\n",
    "df_courses_classes = df_classes[~df_classes[\"ClassName\"].isin(df_students[\"ClassName\"])]\n",
    "print(f\"Removed {size - len(df_classes)} classes\")"
   ]
  },
  {
   "cell_type": "code",
   "execution_count": null,
   "metadata": {},
   "outputs": [],
   "source": [
    "headers = True\n",
    "path = \"dataFullSnapshot2/\"\n",
    "df_students.drop(columns=[\"iq\"]).to_csv(f\"{path}students.csv\", index=False, header=headers)\n",
    "df_classes.drop(columns=[\"Year\", \"courses\"]).to_csv(f\"{path}classes.csv\", index=False, header=headers)\n",
    "df_teachers.to_csv(f\"{path}teachers.csv\", index=False, header=headers)\n",
    "df_courses.to_csv(f\"{path}courses.csv\", index=False, header=headers)\n",
    "df_classrooms.to_csv(f\"{path}classrooms.csv\", index=False, header=headers)\n",
    "df_meetings.drop(columns=[\"StartHour\", \"EndHour\", \"Year\", \"Month\"]).to_csv(f\"{path}meetings.csv\", index=False, header=headers)\n",
    "df_surveys.to_csv(f\"{path}surveys.csv\", index=False, header=headers)\n",
    "df_exams.to_csv(f\"{path}exams.csv\", index=False, header=headers)\n",
    "df_attendance.to_csv(f\"{path}attendance.csv\", index=True, header=headers)\n"
   ]
  },
  {
   "cell_type": "code",
   "execution_count": 27,
   "metadata": {},
   "outputs": [
    {
     "name": "stdout",
     "output_type": "stream",
     "text": [
      "Update Teachers SET CityDistrict = 'Reda' WHERE tID = 289;\n",
      "Update Teachers SET CityDistrict = 'Redlowo' WHERE tID = 1;\n",
      "Update Teachers SET CityDistrict = 'Gdansk centrum' WHERE tID = 5;\n",
      "Update Teachers SET CityDistrict = 'Gdynia centrum' WHERE tID = 50;\n",
      "Update Teachers SET CityDistrict = 'Reda' WHERE tID = 19;\n",
      "Update Teachers SET CityDistrict = 'Jasien' WHERE tID = 222;\n",
      "Update Teachers SET CityDistrict = 'Lostowice' WHERE tID = 52;\n",
      "Update Teachers SET CityDistrict = 'Gdansk centrum' WHERE tID = 210;\n",
      "Update Teachers SET CityDistrict = 'Wejherowo' WHERE tID = 122;\n",
      "Update Teachers SET CityDistrict = 'Zaspa' WHERE tID = 271;\n",
      "Update Teachers SET CityDistrict = 'Zaspa' WHERE tID = 64;\n",
      "Update Teachers SET CityDistrict = 'Stocznia' WHERE tID = 117;\n",
      "Update Teachers SET CityDistrict = 'Lostowice' WHERE tID = 215;\n",
      "Update Teachers SET CityDistrict = 'Zaspa' WHERE tID = 296;\n",
      "Update Teachers SET CityDistrict = 'Orunia' WHERE tID = 187;\n"
     ]
    }
   ],
   "source": [
    "df = df_teachers.sample(n=15)\n",
    "df[\"CityDistrict2\"] = df[\"CityDistrict\"].apply(lambda x: np.random.choice([y for y in defaultCityDistricts if y != x]))\n",
    "df[\"update\"] = df.apply(lambda x: f\"Update Teachers SET CityDistrict = '{x['CityDistrict2']}' WHERE tID = {x['tID']};\", axis=1)\n",
    "for x in df[\"update\"]:\n",
    "    print(x)"
   ]
  },
  {
   "cell_type": "code",
   "execution_count": 82,
   "metadata": {},
   "outputs": [
    {
     "name": "stdout",
     "output_type": "stream",
     "text": [
      "Update Students SET CityDistrict = 'Przymorze' WHERE sID = 77;\n",
      "Update Students SET CityDistrict = 'Gdansk centrum' WHERE sID = 31;\n",
      "Update Students SET CityDistrict = 'Gdansk centrum' WHERE sID = 374;\n",
      "Update Students SET CityDistrict = 'Wejherowo' WHERE sID = 676;\n",
      "Update Students SET CityDistrict = 'Wejherowo' WHERE sID = 568;\n",
      "Update Students SET CityDistrict = 'Przymorze' WHERE sID = 688;\n",
      "Update Students SET CityDistrict = 'Przymorze' WHERE sID = 657;\n",
      "Update Students SET CityDistrict = 'Zaspa' WHERE sID = 710;\n",
      "Update Students SET CityDistrict = 'Lostowice' WHERE sID = 659;\n",
      "Update Students SET CityDistrict = 'Przymorze' WHERE sID = 76;\n",
      "Update Students SET CityDistrict = 'Zaspa' WHERE sID = 101;\n",
      "Update Students SET CityDistrict = 'Przymorze' WHERE sID = 433;\n",
      "Update Students SET CityDistrict = 'Wrzeszcz' WHERE sID = 491;\n",
      "Update Students SET CityDistrict = 'Wejherowo' WHERE sID = 502;\n",
      "Update Students SET CityDistrict = 'Przymorze' WHERE sID = 119;\n"
     ]
    }
   ],
   "source": [
    "df = df_students.sample(n=15)\n",
    "df[\"CityDistrict2\"] = df[\"CityDistrict\"].apply(lambda x: np.random.choice([y for y in defaultCityDistricts if y != x]))\n",
    "df[\"update\"] = df.apply(lambda x: f\"Update Students SET CityDistrict = '{x['CityDistrict2']}' WHERE sID = {x['sID']};\", axis=1)\n",
    "for x in df[\"update\"]:\n",
    "    print(x)"
   ]
  },
  {
   "cell_type": "code",
   "execution_count": 83,
   "metadata": {},
   "outputs": [
    {
     "name": "stdout",
     "output_type": "stream",
     "text": [
      "Update Students SET ClassName = 'E20' WHERE sID = 28;\n",
      "Update Students SET ClassName = 'B20' WHERE sID = 478;\n",
      "Update Students SET ClassName = 'J19' WHERE sID = 403;\n",
      "Update Students SET ClassName = 'E17' WHERE sID = 516;\n",
      "Update Students SET ClassName = 'I22' WHERE sID = 500;\n",
      "Update Students SET ClassName = 'A19' WHERE sID = 142;\n",
      "Update Students SET ClassName = 'B22' WHERE sID = 244;\n",
      "Update Students SET ClassName = 'B21' WHERE sID = 680;\n",
      "Update Students SET ClassName = 'A17' WHERE sID = 526;\n",
      "Update Students SET ClassName = 'F21' WHERE sID = 375;\n",
      "Update Students SET ClassName = 'C22' WHERE sID = 7;\n",
      "Update Students SET ClassName = 'J22' WHERE sID = 418;\n",
      "Update Students SET ClassName = 'E22' WHERE sID = 101;\n",
      "Update Students SET ClassName = 'F17' WHERE sID = 9;\n",
      "Update Students SET ClassName = 'H20' WHERE sID = 211;\n"
     ]
    }
   ],
   "source": [
    "df = df_students.sample(n=15)\n",
    "df[\"ClassName2\"] = df[\"ClassName\"].apply(lambda x: np.random.choice([y for y in df_classes[\"ClassName\"].unique() if y != x]))\n",
    "df[\"update\"] = df.apply(lambda x: f\"Update Students SET ClassName = '{x['ClassName']}' WHERE sID = {x['sID']};\", axis=1)\n",
    "for x in df[\"update\"]:\n",
    "    print(x)"
   ]
  },
  {
   "cell_type": "code",
   "execution_count": 26,
   "metadata": {},
   "outputs": [
    {
     "name": "stdout",
     "output_type": "stream",
     "text": [
      "Update Class SET tID = '33' WHERE ClassName = 'B22';\n",
      "Update Class SET tID = '25' WHERE ClassName = 'J22';\n",
      "Update Class SET tID = '87' WHERE ClassName = 'G18';\n",
      "Update Class SET tID = '48' WHERE ClassName = 'H18';\n",
      "Update Class SET tID = '60' WHERE ClassName = 'H19';\n",
      "Update Class SET tID = '112' WHERE ClassName = 'D18';\n",
      "Update Class SET tID = '276' WHERE ClassName = 'A21';\n",
      "Update Class SET tID = '296' WHERE ClassName = 'D22';\n",
      "Update Class SET tID = '188' WHERE ClassName = 'C18';\n",
      "Update Class SET tID = '50' WHERE ClassName = 'J21';\n",
      "Update Class SET tID = '274' WHERE ClassName = 'J20';\n",
      "Update Class SET tID = '121' WHERE ClassName = 'B20';\n",
      "Update Class SET tID = '108' WHERE ClassName = 'I20';\n",
      "Update Class SET tID = '269' WHERE ClassName = 'J19';\n",
      "Update Class SET tID = '126' WHERE ClassName = 'G19';\n"
     ]
    }
   ],
   "source": [
    "df = df_classes.sample(n=15)\n",
    "df[\"tID2\"] = df[\"tID\"].apply(lambda x: np.random.choice([y for y in df_classes[\"ClassName\"].unique() if y != x]))\n",
    "df[\"update\"] = df.apply(lambda x: f\"Update Class SET tID = '{x['tID']}' WHERE ClassName = '{x['ClassName']}';\", axis=1)\n",
    "for x in df[\"update\"]:\n",
    "    print(x)"
   ]
  },
  {
   "cell_type": "code",
   "execution_count": 29,
   "metadata": {},
   "outputs": [
    {
     "data": {
      "text/html": [
       "<div>\n",
       "<style scoped>\n",
       "    .dataframe tbody tr th:only-of-type {\n",
       "        vertical-align: middle;\n",
       "    }\n",
       "\n",
       "    .dataframe tbody tr th {\n",
       "        vertical-align: top;\n",
       "    }\n",
       "\n",
       "    .dataframe thead th {\n",
       "        text-align: right;\n",
       "    }\n",
       "</style>\n",
       "<table border=\"1\" class=\"dataframe\">\n",
       "  <thead>\n",
       "    <tr style=\"text-align: right;\">\n",
       "      <th></th>\n",
       "      <th>mID</th>\n",
       "      <th>Date</th>\n",
       "      <th>RoomNumber</th>\n",
       "      <th>cID</th>\n",
       "      <th>ClassName</th>\n",
       "    </tr>\n",
       "  </thead>\n",
       "  <tbody>\n",
       "    <tr>\n",
       "      <th>0</th>\n",
       "      <td>0</td>\n",
       "      <td>2021-09-01 09:00:00</td>\n",
       "      <td>46</td>\n",
       "      <td>71</td>\n",
       "      <td>A22</td>\n",
       "    </tr>\n",
       "    <tr>\n",
       "      <th>1</th>\n",
       "      <td>1</td>\n",
       "      <td>2021-09-01 09:00:00</td>\n",
       "      <td>46</td>\n",
       "      <td>116</td>\n",
       "      <td>A22</td>\n",
       "    </tr>\n",
       "    <tr>\n",
       "      <th>2</th>\n",
       "      <td>2</td>\n",
       "      <td>2021-09-01 09:00:00</td>\n",
       "      <td>46</td>\n",
       "      <td>166</td>\n",
       "      <td>A22</td>\n",
       "    </tr>\n",
       "    <tr>\n",
       "      <th>3</th>\n",
       "      <td>3</td>\n",
       "      <td>2021-09-01 09:00:00</td>\n",
       "      <td>46</td>\n",
       "      <td>232</td>\n",
       "      <td>A22</td>\n",
       "    </tr>\n",
       "    <tr>\n",
       "      <th>4</th>\n",
       "      <td>4</td>\n",
       "      <td>2021-09-01 09:00:00</td>\n",
       "      <td>46</td>\n",
       "      <td>233</td>\n",
       "      <td>A22</td>\n",
       "    </tr>\n",
       "    <tr>\n",
       "      <th>5</th>\n",
       "      <td>5</td>\n",
       "      <td>2021-09-01 09:00:00</td>\n",
       "      <td>46</td>\n",
       "      <td>265</td>\n",
       "      <td>A22</td>\n",
       "    </tr>\n",
       "    <tr>\n",
       "      <th>6</th>\n",
       "      <td>6</td>\n",
       "      <td>2021-09-01 09:00:00</td>\n",
       "      <td>46</td>\n",
       "      <td>283</td>\n",
       "      <td>A22</td>\n",
       "    </tr>\n",
       "    <tr>\n",
       "      <th>7</th>\n",
       "      <td>7</td>\n",
       "      <td>2021-09-01 09:00:00</td>\n",
       "      <td>46</td>\n",
       "      <td>300</td>\n",
       "      <td>A22</td>\n",
       "    </tr>\n",
       "    <tr>\n",
       "      <th>8</th>\n",
       "      <td>8</td>\n",
       "      <td>2021-09-01 17:00:00</td>\n",
       "      <td>50</td>\n",
       "      <td>6</td>\n",
       "      <td>A21</td>\n",
       "    </tr>\n",
       "  </tbody>\n",
       "</table>\n",
       "</div>"
      ],
      "text/plain": [
       "   mID                 Date  RoomNumber  cID ClassName\n",
       "0    0  2021-09-01 09:00:00          46   71       A22\n",
       "1    1  2021-09-01 09:00:00          46  116       A22\n",
       "2    2  2021-09-01 09:00:00          46  166       A22\n",
       "3    3  2021-09-01 09:00:00          46  232       A22\n",
       "4    4  2021-09-01 09:00:00          46  233       A22\n",
       "5    5  2021-09-01 09:00:00          46  265       A22\n",
       "6    6  2021-09-01 09:00:00          46  283       A22\n",
       "7    7  2021-09-01 09:00:00          46  300       A22\n",
       "8    8  2021-09-01 17:00:00          50    6       A21"
      ]
     },
     "execution_count": 29,
     "metadata": {},
     "output_type": "execute_result"
    }
   ],
   "source": [
    "df_meetings"
   ]
  },
  {
   "cell_type": "code",
   "execution_count": 37,
   "metadata": {},
   "outputs": [],
   "source": [
    "df = pd.read_csv('dataFullSnapshot2/surveys.csv')\n",
    "df[\"mID\"] = df[\"mID\"] + 487350\n",
    "df.to_csv('dataFullSnapshot2/surveys2.csv',  index=False, header=False)"
   ]
  },
  {
   "cell_type": "code",
   "execution_count": 33,
   "metadata": {},
   "outputs": [
    {
     "data": {
      "text/html": [
       "<div>\n",
       "<style scoped>\n",
       "    .dataframe tbody tr th:only-of-type {\n",
       "        vertical-align: middle;\n",
       "    }\n",
       "\n",
       "    .dataframe tbody tr th {\n",
       "        vertical-align: top;\n",
       "    }\n",
       "\n",
       "    .dataframe thead th {\n",
       "        text-align: right;\n",
       "    }\n",
       "</style>\n",
       "<table border=\"1\" class=\"dataframe\">\n",
       "  <thead>\n",
       "    <tr style=\"text-align: right;\">\n",
       "      <th></th>\n",
       "      <th>mID</th>\n",
       "      <th>Date</th>\n",
       "      <th>RoomNumber</th>\n",
       "      <th>cID</th>\n",
       "      <th>ClassName</th>\n",
       "    </tr>\n",
       "  </thead>\n",
       "  <tbody>\n",
       "    <tr>\n",
       "      <th>0</th>\n",
       "      <td>487349</td>\n",
       "      <td>2017-09-01 09:00:00</td>\n",
       "      <td>118</td>\n",
       "      <td>17</td>\n",
       "      <td>A22</td>\n",
       "    </tr>\n",
       "    <tr>\n",
       "      <th>1</th>\n",
       "      <td>487350</td>\n",
       "      <td>2017-09-01 09:00:00</td>\n",
       "      <td>118</td>\n",
       "      <td>76</td>\n",
       "      <td>A22</td>\n",
       "    </tr>\n",
       "    <tr>\n",
       "      <th>2</th>\n",
       "      <td>487351</td>\n",
       "      <td>2017-09-01 09:00:00</td>\n",
       "      <td>118</td>\n",
       "      <td>97</td>\n",
       "      <td>A22</td>\n",
       "    </tr>\n",
       "    <tr>\n",
       "      <th>3</th>\n",
       "      <td>487352</td>\n",
       "      <td>2017-09-01 09:00:00</td>\n",
       "      <td>118</td>\n",
       "      <td>157</td>\n",
       "      <td>A22</td>\n",
       "    </tr>\n",
       "    <tr>\n",
       "      <th>4</th>\n",
       "      <td>487353</td>\n",
       "      <td>2017-09-01 09:00:00</td>\n",
       "      <td>118</td>\n",
       "      <td>212</td>\n",
       "      <td>A22</td>\n",
       "    </tr>\n",
       "    <tr>\n",
       "      <th>...</th>\n",
       "      <td>...</td>\n",
       "      <td>...</td>\n",
       "      <td>...</td>\n",
       "      <td>...</td>\n",
       "      <td>...</td>\n",
       "    </tr>\n",
       "    <tr>\n",
       "      <th>486895</th>\n",
       "      <td>974244</td>\n",
       "      <td>2022-06-30 19:00:00</td>\n",
       "      <td>456</td>\n",
       "      <td>210</td>\n",
       "      <td>J17</td>\n",
       "    </tr>\n",
       "    <tr>\n",
       "      <th>486896</th>\n",
       "      <td>974245</td>\n",
       "      <td>2022-06-30 13:00:00</td>\n",
       "      <td>24</td>\n",
       "      <td>241</td>\n",
       "      <td>J17</td>\n",
       "    </tr>\n",
       "    <tr>\n",
       "      <th>486897</th>\n",
       "      <td>974246</td>\n",
       "      <td>2022-06-30 13:00:00</td>\n",
       "      <td>24</td>\n",
       "      <td>243</td>\n",
       "      <td>J17</td>\n",
       "    </tr>\n",
       "    <tr>\n",
       "      <th>486898</th>\n",
       "      <td>974247</td>\n",
       "      <td>2022-06-30 14:00:00</td>\n",
       "      <td>383</td>\n",
       "      <td>271</td>\n",
       "      <td>J17</td>\n",
       "    </tr>\n",
       "    <tr>\n",
       "      <th>486899</th>\n",
       "      <td>974248</td>\n",
       "      <td>2022-06-30 14:00:00</td>\n",
       "      <td>383</td>\n",
       "      <td>359</td>\n",
       "      <td>J17</td>\n",
       "    </tr>\n",
       "  </tbody>\n",
       "</table>\n",
       "<p>486900 rows × 5 columns</p>\n",
       "</div>"
      ],
      "text/plain": [
       "           mID                 Date  RoomNumber  cID ClassName\n",
       "0       487349  2017-09-01 09:00:00         118   17       A22\n",
       "1       487350  2017-09-01 09:00:00         118   76       A22\n",
       "2       487351  2017-09-01 09:00:00         118   97       A22\n",
       "3       487352  2017-09-01 09:00:00         118  157       A22\n",
       "4       487353  2017-09-01 09:00:00         118  212       A22\n",
       "...        ...                  ...         ...  ...       ...\n",
       "486895  974244  2022-06-30 19:00:00         456  210       J17\n",
       "486896  974245  2022-06-30 13:00:00          24  241       J17\n",
       "486897  974246  2022-06-30 13:00:00          24  243       J17\n",
       "486898  974247  2022-06-30 14:00:00         383  271       J17\n",
       "486899  974248  2022-06-30 14:00:00         383  359       J17\n",
       "\n",
       "[486900 rows x 5 columns]"
      ]
     },
     "execution_count": 33,
     "metadata": {},
     "output_type": "execute_result"
    }
   ],
   "source": []
  },
  {
   "cell_type": "code",
   "execution_count": null,
   "metadata": {},
   "outputs": [],
   "source": []
  }
 ],
 "metadata": {
  "kernelspec": {
   "display_name": "Python 3",
   "language": "python",
   "name": "python3"
  },
  "language_info": {
   "codemirror_mode": {
    "name": "ipython",
    "version": 3
   },
   "file_extension": ".py",
   "mimetype": "text/x-python",
   "name": "python",
   "nbconvert_exporter": "python",
   "pygments_lexer": "ipython3",
   "version": "3.10.7"
  }
 },
 "nbformat": 4,
 "nbformat_minor": 2
}
