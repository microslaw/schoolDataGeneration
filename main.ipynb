{
 "cells": [
  {
   "cell_type": "code",
   "execution_count": 60,
   "metadata": {},
   "outputs": [
    {
     "name": "stdout",
     "output_type": "stream",
     "text": [
      "The autoreload extension is already loaded. To reload it, use:\n",
      "  %reload_ext autoreload\n"
     ]
    }
   ],
   "source": [
    "%load_ext autoreload\n",
    "%autoreload 2\n",
    "\n",
    "import warnings\n",
    "warnings.simplefilter(action='ignore', category=FutureWarning)\n",
    "\n",
    "\n",
    "import pandas as pd\n",
    "import numpy as np\n",
    "\n",
    "from utils import mkdir, getSchoolYear, addTrend, fractionRound\n",
    "import parameters\n",
    "\n",
    "import classroom\n",
    "import teachers\n",
    "import course\n",
    "import aClass\n",
    "import students\n",
    "import meeting\n",
    "import exams\n",
    "import surveys\n",
    "import attendance\n"
   ]
  },
  {
   "cell_type": "code",
   "execution_count": 61,
   "metadata": {},
   "outputs": [
    {
     "name": "stdout",
     "output_type": "stream",
     "text": [
      "Generating schedule for 15 days between 2020-06-20 and 2020-09-10\n",
      "Starting at 2024-04-15 15:46:38\n",
      "\n",
      "|2020-06-20|>>>|2020-09-10|>>>|2020-09-10|100.0%   ETC:0:00:00s   \n",
      "\n",
      "Finished at 2024-04-15 15:46:47\n",
      "\n"
     ]
    }
   ],
   "source": [
    "# This cell generates data\n",
    "\n",
    "df_classrooms = classroom.generate(\n",
    "    count=parameters.classroom_count,\n",
    "    maxRoomNumber=parameters.classroom_max_number,\n",
    "    MinMaxCapacity=parameters.classroom_min_max_capacity,\n",
    "    MaxMaxCapacity=parameters.classroom_max_max_capacity,\n",
    ")\n",
    "\n",
    "df_teachers = teachers.generate(\n",
    "    count=parameters.teacher_count,\n",
    "    minAge=parameters.teacher_min_age,\n",
    "    maxAge=parameters.teacher_max_age,\n",
    "    cityDistricts=parameters.default_city_districts,\n",
    "    subjects=parameters.default_course_names,\n",
    ")\n",
    "\n",
    "df_courses = course.generate(\n",
    "    count=parameters.course_count,\n",
    "    maxSchoolYears=parameters.max_school_years,\n",
    "    courseNames=parameters.default_course_names,\n",
    "    df_teachers=df_teachers,\n",
    ")\n",
    "\n",
    "df_classes, df_courses = aClass.generate(\n",
    "    count=parameters.class_count,\n",
    "    courseCount=parameters.course_count,\n",
    "    maxSchoolYears=parameters.max_school_years,\n",
    "    presentYear=getSchoolYear(parameters.start_date),\n",
    "    specializations=parameters.default_specializations,\n",
    "    df_teachers=df_teachers,\n",
    "    df_courses=df_courses,\n",
    ")\n",
    "\n",
    "df_students = students.generate(\n",
    "    count=parameters.student_count,\n",
    "    minAge=parameters.student_min_age,\n",
    "    cityDistricts=parameters.default_city_districts,\n",
    "    classes=df_classes,\n",
    ")\n",
    "\n",
    "\n",
    "df_meetings = meeting.generate(\n",
    "    count=parameters.meeting_count,\n",
    "    startDate=parameters.start_date,\n",
    "    endDate=parameters.end_date,\n",
    "    schoolStart=parameters.school_start_hour,\n",
    "    schoolEnd=parameters.school_end_hour,\n",
    "    maxSchoolYears=parameters.max_school_years,\n",
    "    df_courses=df_courses,\n",
    "    df_rooms=df_classrooms,\n",
    "    df_classes=df_classes,\n",
    ")\n",
    "\n",
    "df_exams = exams.generate(\n",
    "    count=parameters.exam_count,\n",
    "    minScore=parameters.exam_min_score,\n",
    "    maxScore=parameters.exam_max_score,\n",
    "    resolution=parameters.exam_resolution,\n",
    "    df_meetings=df_meetings,\n",
    "    df_students=df_students,\n",
    ")\n",
    "\n",
    "df_surveys = surveys.generate(\n",
    "    count=parameters.survey_count,\n",
    "    minScore=parameters.survey_min_score,\n",
    "    maxScore=parameters.survey_max_score,\n",
    "    resolution=parameters.survey_resolution,\n",
    "    df_meetings=df_meetings,\n",
    "    df_students=df_students,\n",
    "    df_courses=df_courses,\n",
    ")\n",
    "\n",
    "df_attendance = attendance.generate(\n",
    "    count=parameters.attendance_count,\n",
    "    excusedProb=parameters.excused_prob,\n",
    "    lateProb=parameters.late_prob,\n",
    "    attendanceProb=parameters.attendance_prob,\n",
    "    df_meetings=df_meetings,\n",
    "    df_students=df_students,\n",
    "    df_teachers=df_teachers,\n",
    "    df_courses=df_courses,\n",
    "    catchupTasks=parameters.default_catchup_tasks,\n",
    ")"
   ]
  },
  {
   "cell_type": "code",
   "execution_count": 35,
   "metadata": {},
   "outputs": [
    {
     "name": "stdout",
     "output_type": "stream",
     "text": [
      "Removed 0 classrooms\n",
      "Removed 86 teachers\n",
      "Removed 23 courses\n",
      "Removed 0 classes\n"
     ]
    }
   ],
   "source": [
    "#This cell purges unused rows\n",
    "size =len(df_classrooms)\n",
    "df_classrooms = df_classrooms[df_classrooms[\"RoomNumber\"].isin(df_meetings[\"RoomNumber\"])]\n",
    "df_classrooms_removed = df_classrooms[~df_classrooms[\"RoomNumber\"].isin(df_meetings[\"RoomNumber\"])]\n",
    "print(f\"Removed {size - len(df_classrooms)} classrooms\")\n",
    "\n",
    "size =len(df_teachers)\n",
    "df_teachers = df_teachers[df_teachers[\"tID\"].isin(pd.concat([df_classes[\"tID\"], df_courses[\"tID\"]]).unique())]\n",
    "df_teachers_removed = df_teachers[~df_teachers[\"tID\"].isin(df_classes[\"tID\"] + df_courses[\"tID\"])]\n",
    "print(f\"Removed {size - len(df_teachers)} teachers\")\n",
    "\n",
    "size =len(df_courses)\n",
    "df_courses = df_courses[df_courses[\"cID\"].isin(df_classes[\"courses\"].explode().unique())]\n",
    "df_courses_removed = df_courses[~df_courses[\"cID\"].isin(df_classes[\"courses\"].explode().unique())]\n",
    "print(f\"Removed {size - len(df_courses)} courses\")\n",
    "\n",
    "size =len(df_classes)\n",
    "df_classes = df_classes[df_classes[\"ClassName\"].isin(df_students[\"ClassName\"])]\n",
    "df_courses_classes = df_classes[~df_classes[\"ClassName\"].isin(df_students[\"ClassName\"])]\n",
    "print(f\"Removed {size - len(df_classes)} classes\")"
   ]
  },
  {
   "cell_type": "code",
   "execution_count": 62,
   "metadata": {},
   "outputs": [],
   "source": [
    "#This cell adds trend: people from different city districts have different scores\n",
    "\n",
    "df_housing_trend = df_students.copy()\n",
    "df_housing_trend[\"score\"] = df_housing_trend[\"CityDistrict\"].map(parameters.default_city_districts_trend_dict)/50\n",
    "df_housing_trend = df_housing_trend[[\"sID\", \"score\"]]\n",
    "trendDict = { sID: score for sID, score in zip(df_housing_trend[\"sID\"], df_housing_trend[\"score\"]) }\n",
    "addTrend(df_surveys, \"sID\", trendDict , \"Score\", 0, 20, parameters.survey_resolution)\n"
   ]
  },
  {
   "cell_type": "code",
   "execution_count": 63,
   "metadata": {},
   "outputs": [],
   "source": [
    "#This cell adds trend: teachers influence the scores of their students\n",
    "\n",
    "teacherTrendDict = {tID: score for tID, score in zip(df_teachers[\"tID\"], np.random.uniform(-2, 5, len(df_teachers)))}\n",
    "df_meeting_teachers = df_meetings.merge(df_courses, left_on=\"cID\", right_on=\"cID\", how=\"left\")[[\"mID\", \"tID\"]]\n",
    "trendDict = { mID: teacherTrendDict[tID] for mID,tID in df_meeting_teachers.values}\n",
    "addTrend(df_exams, \"mID\", trendDict, \"Score\", 0, 50, parameters.exam_resolution)"
   ]
  },
  {
   "cell_type": "code",
   "execution_count": 68,
   "metadata": {},
   "outputs": [],
   "source": [
    "#This cell adds trend: room where the exam was taken influences the score\n",
    "\n",
    "roomTrendDict = {roomNumber: score for roomNumber, score in zip(df_classrooms[\"RoomNumber\"], np.random.uniform(-5, 5, len(df_classrooms)))}\n",
    "df_meeting_rooms = df_meetings[[\"mID\", \"RoomNumber\"]]\n",
    "trendDict = { mID: roomTrendDict[rID] for mID,rID in df_meeting_rooms.values}\n",
    "addTrend(df_exams, \"mID\", trendDict, \"Score\", 0, 50, parameters.exam_resolution)"
   ]
  },
  {
   "cell_type": "code",
   "execution_count": 63,
   "metadata": {},
   "outputs": [
    {
     "name": "stdout",
     "output_type": "stream",
     "text": [
      "Directory data already exists\n"
     ]
    }
   ],
   "source": [
    "#This saves data to .csv files, in format compatible with the database\n",
    "\n",
    "path = \"data\"\n",
    "headers = False\n",
    "indexing = False\n",
    "\n",
    "mkdir(path)\n",
    "\n",
    "df_students.drop(columns=[\"iq\"]).to_csv(f\"{path}/students.csv\", index=indexing, header=headers)\n",
    "df_classes.drop(columns=[\"Year\", \"courses\"]).to_csv(f\"{path}/classes.csv\", index=indexing, header=headers)\n",
    "df_teachers.drop(columns=[\"Subject\"]).to_csv(f\"{path}/teachers.csv\", index=indexing, header=headers)\n",
    "df_courses.to_csv(f\"{path}/courses.csv\", index=indexing, header=headers)\n",
    "df_classrooms.to_csv(f\"{path}/classrooms.csv\", index=indexing, header=headers)\n",
    "df_meetings.drop(columns=[\"StartHour\", \"EndHour\", \"Year\", \"Month\"]).to_csv(f\"{path}/meetings.csv\", index=indexing, header=headers)\n",
    "df_surveys.to_csv(f\"{path}/surveys.csv\", index=indexing, header=headers)\n",
    "df_exams.to_csv(f\"{path}/exams.csv\", index=indexing, header=headers)\n",
    "df_attendance.to_csv(f\"{path}/attendance.csv\", index=indexing, header=headers)\n"
   ]
  },
  {
   "cell_type": "code",
   "execution_count": null,
   "metadata": {},
   "outputs": [],
   "source": [
    "#This cell prepares data for backup, in format not suitable for database\n",
    "\n",
    "path = \"backup\"\n",
    "headers = True\n",
    "indexing = False\n",
    "\n",
    "mkdir(path)\n",
    "\n",
    "df_students.to_csv(f\"{path}/students.csv\", index=indexing, header=headers)\n",
    "df_classes.to_csv(f\"{path}/classes.csv\", index=indexing, header=headers)\n",
    "df_teachers.to_csv(f\"{path}/teachers.csv\", index=indexing, header=headers)\n",
    "df_courses.to_csv(f\"{path}/courses.csv\", index=indexing, header=headers)\n",
    "df_classrooms.to_csv(f\"{path}/classrooms.csv\", index=indexing, header=headers)\n",
    "df_meetings.to_csv(f\"{path}/meetings.csv\", index=indexing, header=headers)\n",
    "df_surveys.to_csv(f\"{path}/surveys.csv\", index=indexing, header=headers)\n",
    "df_exams.to_csv(f\"{path}/exams.csv\", index=indexing, header=headers)\n",
    "df_attendance.to_csv(f\"{path}/attendance.csv\", index=indexing, header=headers)"
   ]
  },
  {
   "cell_type": "code",
   "execution_count": null,
   "metadata": {},
   "outputs": [],
   "source": [
    "#This cell loads data from csv files.\n",
    "\n",
    "path = \"data\"\n",
    "\n",
    "df_classrooms = pd.read_csv(f\"{path}/classrooms.csv\")\n",
    "df_teachers = pd.read_csv(f\"{path}/teachers.csv\")\n",
    "df_courses = pd.read_csv(f\"{path}/courses.csv\")\n",
    "df_classes = pd.read_csv(f\"{path}/classes.csv\")\n",
    "df_students = pd.read_csv(f\"{path}/students.csv\")\n",
    "df_meetings = pd.read_csv(f\"{path}/meetings.csv\")\n",
    "df_exams = pd.read_csv(f\"{path}/exams.csv\")\n",
    "df_surveys = pd.read_csv(f\"{path}/surveys.csv\")\n",
    "df_attendance = pd.read_csv(f\"{path}/attendance.csv\")"
   ]
  },
  {
   "cell_type": "code",
   "execution_count": 37,
   "metadata": {},
   "outputs": [
    {
     "name": "stdout",
     "output_type": "stream",
     "text": [
      "Directory updates already exists\n"
     ]
    }
   ],
   "source": [
    "#This cell generates random updates for database\n",
    "\n",
    "path = \"updates\"\n",
    "\n",
    "mkdir(path)\n",
    "\n",
    "df = df_teachers.sample(n=15)\n",
    "df[\"CityDistrict2\"] = df[\"CityDistrict\"].apply(lambda x: np.random.choice([y for y in parameters.default_city_districts if y != x]))\n",
    "df[\"update\"] = df.apply(lambda x: f\"Update Teachers SET CityDistrict = '{x['CityDistrict2']}' WHERE tID = {x['tID']};\", axis=1)\n",
    "df[\"update\"].to_csv(f\"{path}/updateTeachersCity.sql\", index=False, header=False)\n",
    "\n",
    "df = df_students.sample(n=15)\n",
    "df[\"CityDistrict2\"] = df[\"CityDistrict\"].apply(lambda x: np.random.choice([y for y in parameters.default_city_districts if y != x]))\n",
    "df[\"update\"] = df.apply(lambda x: f\"Update Students SET CityDistrict = '{x['CityDistrict2']}' WHERE sID = {x['sID']};\", axis=1)\n",
    "df[\"update\"].to_csv(f\"{path}/updateStudentsCity.sql\", index=False, header=False)\n",
    "\n",
    "df = df_students.sample(n=15)\n",
    "df[\"ClassName2\"] = df[\"ClassName\"].apply(lambda x: np.random.choice([y for y in df_classes[\"ClassName\"].unique() if y != x]))\n",
    "df[\"update\"] = df.apply(lambda x: f\"Update Students SET ClassName = '{x['ClassName']}' WHERE sID = {x['sID']};\", axis=1)\n",
    "df[\"update\"].to_csv(f\"{path}/updateStudentsClass.sql\", index=False, header=False)\n",
    "\n",
    "df = df_classes.sample(n=15)\n",
    "df[\"tID2\"] = df[\"tID\"].apply(lambda x: np.random.choice([y for y in df_classes[\"ClassName\"].unique() if y != x]))\n",
    "df[\"update\"] = df.apply(lambda x: f\"Update Class SET tID = '{x['tID']}' WHERE ClassName = '{x['ClassName']}';\", axis=1)\n",
    "df[\"update\"].to_csv(f\"{path}/updateClassesTeacher.sql\", index=False, header=False)"
   ]
  }
 ],
 "metadata": {
  "kernelspec": {
   "display_name": "Python 3",
   "language": "python",
   "name": "python3"
  },
  "language_info": {
   "codemirror_mode": {
    "name": "ipython",
    "version": 3
   },
   "file_extension": ".py",
   "mimetype": "text/x-python",
   "name": "python",
   "nbconvert_exporter": "python",
   "pygments_lexer": "ipython3",
   "version": "3.12.2"
  }
 },
 "nbformat": 4,
 "nbformat_minor": 2
}
