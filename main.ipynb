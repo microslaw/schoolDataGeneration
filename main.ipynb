{
 "cells": [
  {
   "cell_type": "code",
   "execution_count": 2,
   "metadata": {},
   "outputs": [],
   "source": [
    "%load_ext autoreload\n",
    "%autoreload 2\n",
    "\n",
    "import warnings\n",
    "warnings.simplefilter(action='ignore', category=FutureWarning)\n",
    "\n",
    "\n",
    "import pandas as pd\n",
    "import numpy as np\n",
    "\n",
    "from utils import mkdir, getSchoolYear, addTrend, splitDf\n",
    "import parameters\n",
    "\n",
    "import classroom\n",
    "import teachers\n",
    "import course\n",
    "import aClass\n",
    "import students\n",
    "import meeting\n",
    "import exams\n",
    "import surveys\n",
    "import attendance\n"
   ]
  },
  {
   "cell_type": "code",
   "execution_count": 3,
   "metadata": {},
   "outputs": [
    {
     "name": "stdout",
     "output_type": "stream",
     "text": [
      "Generating schedule for 15 days between 2020-06-20 and 2020-09-10\n",
      "\n",
      "\n"
     ]
    }
   ],
   "source": [
    "# This cell generates data\n",
    "\n",
    "df_classrooms = classroom.generate(\n",
    "    count=parameters.classroom_count,\n",
    "    maxRoomNumber=parameters.classroom_max_number,\n",
    "    MinMaxCapacity=parameters.classroom_min_max_capacity,\n",
    "    MaxMaxCapacity=parameters.classroom_max_max_capacity,\n",
    ")\n",
    "\n",
    "df_teachers = teachers.generate(\n",
    "    count=parameters.teacher_count,\n",
    "    minAge=parameters.teacher_min_age,\n",
    "    maxAge=parameters.teacher_max_age,\n",
    "    cityDistricts=parameters.default_city_districts,\n",
    "    subjects=parameters.default_course_names,\n",
    ")\n",
    "\n",
    "df_courses = course.generate(\n",
    "    count=parameters.course_count,\n",
    "    maxSchoolYears=parameters.max_school_years,\n",
    "    courseNames=parameters.default_course_names,\n",
    "    df_teachers=df_teachers,\n",
    ")\n",
    "\n",
    "\n",
    "df_classes, df_courses = aClass.generate(\n",
    "    count=parameters.class_count,\n",
    "    courseCount=parameters.course_count,\n",
    "    maxSchoolYears=parameters.max_school_years,\n",
    "    presentYear=getSchoolYear(parameters.start_date),\n",
    "    specializations=parameters.default_specializations,\n",
    "    df_teachers=df_teachers,\n",
    "    df_courses=df_courses,\n",
    ")\n",
    "\n",
    "df_students = students.generate(\n",
    "    count=parameters.student_count,\n",
    "    minAge=parameters.student_min_age,\n",
    "    cityDistricts=parameters.default_city_districts,\n",
    "    classes=df_classes,\n",
    ")\n",
    "\n",
    "df_students, df_students_old = splitDf(df_students)\n",
    "\n",
    "\n",
    "df_meetings = meeting.generate(\n",
    "    count=parameters.meeting_count,\n",
    "    startDate=parameters.start_date,\n",
    "    endDate=parameters.end_date,\n",
    "    schoolStart=parameters.school_start_hour,\n",
    "    schoolEnd=parameters.school_end_hour,\n",
    "    maxSchoolYears=parameters.max_school_years,\n",
    "    df_courses=df_courses,\n",
    "    df_rooms=df_classrooms,\n",
    "    df_classes=df_classes,\n",
    ")\n",
    "\n",
    "df_exams = exams.generate(\n",
    "    count=parameters.exam_count,\n",
    "    minScore=parameters.exam_min_score,\n",
    "    maxScore=parameters.exam_max_score,\n",
    "    resolution=parameters.exam_resolution,\n",
    "    df_meetings=df_meetings,\n",
    "    df_students=df_students,\n",
    ")\n",
    "\n",
    "df_surveys = surveys.generate(\n",
    "    count=parameters.survey_count,\n",
    "    minScore=parameters.survey_min_score,\n",
    "    maxScore=parameters.survey_max_score,\n",
    "    resolution=parameters.survey_resolution,\n",
    "    df_meetings=df_meetings,\n",
    "    df_students=df_students,\n",
    "    df_courses=df_courses,\n",
    ")\n",
    "\n",
    "df_attendance = attendance.generate(\n",
    "    count=parameters.attendance_count,\n",
    "    excusedProb=parameters.excused_prob,\n",
    "    lateProb=parameters.late_prob,\n",
    "    attendanceProb=parameters.attendance_prob,\n",
    "    df_meetings=df_meetings,\n",
    "    df_students=df_students,\n",
    "    df_teachers=df_teachers,\n",
    "    df_courses=df_courses,\n",
    "    catchupTasks=parameters.default_catchup_tasks,\n",
    ")"
   ]
  },
  {
   "cell_type": "code",
   "execution_count": 14,
   "metadata": {},
   "outputs": [
    {
     "name": "stdout",
     "output_type": "stream",
     "text": [
      "Removed 0 unused classrooms\n",
      "Removed 0 unused teachers\n",
      "Removed 31 unused courses\n",
      "Removed 0 unused classes\n"
     ]
    }
   ],
   "source": [
    "#This cell purges unused rows\n",
    "size =len(df_classrooms)\n",
    "df_classrooms = df_classrooms[df_classrooms[\"RoomNumber\"].isin(df_meetings[\"RoomNumber\"])]\n",
    "df_classrooms_removed = df_classrooms[~df_classrooms[\"RoomNumber\"].isin(df_meetings[\"RoomNumber\"])]\n",
    "print(f\"Removed {size - len(df_classrooms)} unused classrooms\")\n",
    "\n",
    "size =len(df_teachers)\n",
    "df_teachers = df_teachers[df_teachers[\"tID\"].isin(pd.concat([df_classes[\"tID\"], df_courses[\"tID\"]]).unique())]\n",
    "df_teachers_removed = df_teachers[~df_teachers[\"tID\"].isin(df_classes[\"tID\"] + df_courses[\"tID\"])]\n",
    "print(f\"Removed {size - len(df_teachers)} unused teachers\")\n",
    "\n",
    "size =len(df_courses)\n",
    "df_courses = df_courses[df_courses[\"cID\"].isin(df_classes[\"courses\"].explode().unique())]\n",
    "df_courses_removed = df_courses[~df_courses[\"cID\"].isin(df_classes[\"courses\"].explode().unique())]\n",
    "print(f\"Removed {size - len(df_courses)} unused courses\")\n",
    "\n",
    "size =len(df_classes)\n",
    "df_classes = df_classes[df_classes[\"ClassName\"].isin(df_students[\"ClassName\"])]\n",
    "df_courses_classes = df_classes[~df_classes[\"ClassName\"].isin(df_students[\"ClassName\"])]\n",
    "print(f\"Removed {size - len(df_classes)} unused classes\")"
   ]
  },
  {
   "cell_type": "code",
   "execution_count": 15,
   "metadata": {},
   "outputs": [],
   "source": [
    "#This cell adds trend: people from different city districts have different scores\n",
    "\n",
    "df_housing_trend = df_students.copy()\n",
    "df_housing_trend[\"score\"] = df_housing_trend[\"CityDistrict\"].map(parameters.default_city_districts_trend_dict)/50\n",
    "df_housing_trend = df_housing_trend[[\"sID\", \"score\"]]\n",
    "trendDict = { sID: score for sID, score in zip(df_housing_trend[\"sID\"], df_housing_trend[\"score\"]) }\n",
    "addTrend(df_surveys, \"sID\", trendDict , \"Score\", parameters.survey_min_score, parameters.survey_max_score, parameters.survey_resolution)\n"
   ]
  },
  {
   "cell_type": "code",
   "execution_count": 16,
   "metadata": {},
   "outputs": [],
   "source": [
    "#This cell adds trend: teachers influence the scores of their students\n",
    "\n",
    "teacherTrendDict = {tID: score for tID, score in zip(df_teachers[\"tID\"], np.random.uniform(-2, 5, len(df_teachers)))}\n",
    "df_meeting_teachers = df_meetings.merge(df_courses, left_on=\"cID\", right_on=\"cID\", how=\"left\")[[\"mID\", \"tID\"]]\n",
    "trendDict = { mID: teacherTrendDict[tID] for mID,tID in df_meeting_teachers.values}\n",
    "addTrend(df_exams, \"mID\", trendDict, \"Score\", parameters.exam_min_score, parameters.exam_max_score, parameters.exam_resolution)"
   ]
  },
  {
   "cell_type": "code",
   "execution_count": 17,
   "metadata": {},
   "outputs": [],
   "source": [
    "#This cell adds trend: room where the exam was taken influences the score\n",
    "\n",
    "roomTrendDict = {roomNumber: score for roomNumber, score in zip(df_classrooms[\"RoomNumber\"], np.random.uniform(-5, 5, len(df_classrooms)))}\n",
    "df_meeting_rooms = df_meetings[[\"mID\", \"RoomNumber\"]]\n",
    "trendDict = { mID: roomTrendDict[rID] for mID,rID in df_meeting_rooms.values}\n",
    "addTrend(df_exams, \"mID\", trendDict, \"Score\", parameters.exam_min_score, parameters.exam_max_score, parameters.exam_resolution)"
   ]
  },
  {
   "cell_type": "code",
   "execution_count": 18,
   "metadata": {},
   "outputs": [
    {
     "name": "stdout",
     "output_type": "stream",
     "text": [
      "Directory data2 already exists\n"
     ]
    }
   ],
   "source": [
    "#This saves data to .csv files, in format compatible with the database\n",
    "\n",
    "path = \"data2\"\n",
    "headers = False\n",
    "indexing = False\n",
    "\n",
    "mkdir(path)\n",
    "\n",
    "df_students.drop(columns=[\"iq\"]).to_csv(f\"{path}/students.csv\", index=indexing, header=headers)\n",
    "df_classes.drop(columns=[\"Year\", \"courses\"]).to_csv(f\"{path}/classes.csv\", index=indexing, header=headers)\n",
    "df_teachers.drop(columns=[\"Subject\"]).to_csv(f\"{path}/teachers.csv\", index=indexing, header=headers)\n",
    "df_courses.to_csv(f\"{path}/courses.csv\", index=indexing, header=headers)\n",
    "df_classrooms.to_csv(f\"{path}/classrooms.csv\", index=indexing, header=headers)\n",
    "df_meetings.drop(columns=[\"StartHour\", \"EndHour\", \"Year\", \"Month\"]).to_csv(f\"{path}/meetings.csv\", index=indexing, header=headers)\n",
    "df_surveys.to_csv(f\"{path}/surveys.csv\", index=indexing, header=headers)\n",
    "df_exams.to_csv(f\"{path}/exams.csv\", index=indexing, header=headers)\n",
    "df_attendance.to_csv(f\"{path}/attendance.csv\", index=indexing, header=headers)\n"
   ]
  },
  {
   "cell_type": "code",
   "execution_count": 18,
   "metadata": {},
   "outputs": [
    {
     "name": "stdout",
     "output_type": "stream",
     "text": [
      "Directory backup already exists\n"
     ]
    },
    {
     "ename": "NameError",
     "evalue": "name 'df_students' is not defined",
     "output_type": "error",
     "traceback": [
      "\u001b[1;31m---------------------------------------------------------------------------\u001b[0m",
      "\u001b[1;31mNameError\u001b[0m                                 Traceback (most recent call last)",
      "Cell \u001b[1;32mIn[18], line 9\u001b[0m\n\u001b[0;32m      5\u001b[0m indexing \u001b[38;5;241m=\u001b[39m \u001b[38;5;28;01mFalse\u001b[39;00m\n\u001b[0;32m      7\u001b[0m mkdir(path)\n\u001b[1;32m----> 9\u001b[0m \u001b[43mdf_students\u001b[49m\u001b[38;5;241m.\u001b[39mto_csv(\u001b[38;5;124mf\u001b[39m\u001b[38;5;124m\"\u001b[39m\u001b[38;5;132;01m{\u001b[39;00mpath\u001b[38;5;132;01m}\u001b[39;00m\u001b[38;5;124m/students.csv\u001b[39m\u001b[38;5;124m\"\u001b[39m, index\u001b[38;5;241m=\u001b[39mindexing, header\u001b[38;5;241m=\u001b[39mheaders)\n\u001b[0;32m     10\u001b[0m df_classes\u001b[38;5;241m.\u001b[39mto_csv(\u001b[38;5;124mf\u001b[39m\u001b[38;5;124m\"\u001b[39m\u001b[38;5;132;01m{\u001b[39;00mpath\u001b[38;5;132;01m}\u001b[39;00m\u001b[38;5;124m/classes.csv\u001b[39m\u001b[38;5;124m\"\u001b[39m, index\u001b[38;5;241m=\u001b[39mindexing, header\u001b[38;5;241m=\u001b[39mheaders)\n\u001b[0;32m     11\u001b[0m df_teachers\u001b[38;5;241m.\u001b[39mto_csv(\u001b[38;5;124mf\u001b[39m\u001b[38;5;124m\"\u001b[39m\u001b[38;5;132;01m{\u001b[39;00mpath\u001b[38;5;132;01m}\u001b[39;00m\u001b[38;5;124m/teachers.csv\u001b[39m\u001b[38;5;124m\"\u001b[39m, index\u001b[38;5;241m=\u001b[39mindexing, header\u001b[38;5;241m=\u001b[39mheaders)\n",
      "\u001b[1;31mNameError\u001b[0m: name 'df_students' is not defined"
     ]
    }
   ],
   "source": [
    "#This cell prepares data for backup, in format not suitable for database\n",
    "\n",
    "path = \"backup\"\n",
    "headers = True\n",
    "indexing = False\n",
    "\n",
    "mkdir(path)\n",
    "\n",
    "df_students.to_csv(f\"{path}/students.csv\", index=indexing, header=headers)\n",
    "df_classes.to_csv(f\"{path}/classes.csv\", index=indexing, header=headers)\n",
    "df_teachers.to_csv(f\"{path}/teachers.csv\", index=indexing, header=headers)\n",
    "df_courses.to_csv(f\"{path}/courses.csv\", index=indexing, header=headers)\n",
    "df_classrooms.to_csv(f\"{path}/classrooms.csv\", index=indexing, header=headers)\n",
    "df_meetings.to_csv(f\"{path}/meetings.csv\", index=indexing, header=headers)\n",
    "df_surveys.to_csv(f\"{path}/surveys.csv\", index=indexing, header=headers)\n",
    "df_exams.to_csv(f\"{path}/exams.csv\", index=indexing, header=headers)\n",
    "df_attendance.to_csv(f\"{path}/attendance.csv\", index=indexing, header=headers)"
   ]
  },
  {
   "cell_type": "code",
   "execution_count": 19,
   "metadata": {},
   "outputs": [],
   "source": [
    "#This cell loads data from csv files.\n",
    "\n",
    "path = \"backup\"\n",
    "\n",
    "df_classrooms = pd.read_csv(f\"{path}/classrooms.csv\")\n",
    "df_teachers = pd.read_csv(f\"{path}/teachers.csv\")\n",
    "df_courses = pd.read_csv(f\"{path}/courses.csv\")\n",
    "df_classes = pd.read_csv(f\"{path}/classes.csv\")\n",
    "df_students = pd.read_csv(f\"{path}/students.csv\")\n",
    "df_meetings = pd.read_csv(f\"{path}/meetings.csv\")\n",
    "df_exams = pd.read_csv(f\"{path}/exams.csv\")\n",
    "df_surveys = pd.read_csv(f\"{path}/surveys.csv\")\n",
    "df_attendance = pd.read_csv(f\"{path}/attendance.csv\")"
   ]
  },
  {
   "cell_type": "code",
   "execution_count": 20,
   "metadata": {},
   "outputs": [
    {
     "name": "stdout",
     "output_type": "stream",
     "text": [
      "Generating schedule for 202 days between 2020-09-10 and 2021-06-20\n",
      "\n",
      "\n"
     ]
    }
   ],
   "source": [
    "\n",
    "# df_students = pd.concat([df_students, df_students_old])\n",
    "\n",
    "df_meetings = meeting.generate(\n",
    "    count=parameters.meeting_count,\n",
    "    startDate=parameters.start_date,\n",
    "    endDate=parameters.end_date,\n",
    "    schoolStart=parameters.school_start_hour,\n",
    "    schoolEnd=parameters.school_end_hour,\n",
    "    maxSchoolYears=parameters.max_school_years,\n",
    "    df_courses=df_courses,\n",
    "    df_rooms=df_classrooms,\n",
    "    df_classes=df_classes,\n",
    ")\n",
    "\n",
    "df_exams = exams.generate(\n",
    "    count=parameters.exam_count,\n",
    "    minScore=parameters.exam_min_score,\n",
    "    maxScore=parameters.exam_max_score,\n",
    "    resolution=parameters.exam_resolution,\n",
    "    df_meetings=df_meetings,\n",
    "    df_students=df_students,\n",
    ")\n",
    "\n",
    "df_surveys = surveys.generate(\n",
    "    count=parameters.survey_count,\n",
    "    minScore=parameters.survey_min_score,\n",
    "    maxScore=parameters.survey_max_score,\n",
    "    resolution=parameters.survey_resolution,\n",
    "    df_meetings=df_meetings,\n",
    "    df_students=df_students,\n",
    "    df_courses=df_courses,\n",
    ")\n",
    "\n",
    "df_attendance = attendance.generate(\n",
    "    count=parameters.attendance_count,\n",
    "    excusedProb=parameters.excused_prob,\n",
    "    lateProb=parameters.late_prob,\n",
    "    attendanceProb=parameters.attendance_prob,\n",
    "    df_meetings=df_meetings,\n",
    "    df_students=df_students,\n",
    "    df_teachers=df_teachers,\n",
    "    df_courses=df_courses,\n",
    "    catchupTasks=parameters.default_catchup_tasks,\n",
    ")"
   ]
  },
  {
   "cell_type": "code",
   "execution_count": 21,
   "metadata": {},
   "outputs": [],
   "source": [
    "df = pd.read_csv(\"data2/exams.csv\", header=None)\n",
    "df[0] = df[0] + 10000\n",
    "df.to_csv(\"data2/exams.csv\", index=False, header=False)"
   ]
  },
  {
   "cell_type": "code",
   "execution_count": 22,
   "metadata": {},
   "outputs": [],
   "source": [
    "df = pd.read_csv(\"data2/surveys.csv\", header=None)\n",
    "df[0] = df[0] + 10000\n",
    "df.to_csv(\"data2/surveys.csv\", index=False, header=False)"
   ]
  },
  {
   "cell_type": "code",
   "execution_count": 23,
   "metadata": {},
   "outputs": [],
   "source": [
    "df = pd.read_csv(\"data2/attendance.csv\", header=None)\n",
    "df[7] = df[7] + 10000\n",
    "df.to_csv(\"data2/attendance.csv\", index=False, header=False)"
   ]
  },
  {
   "cell_type": "code",
   "execution_count": 24,
   "metadata": {},
   "outputs": [],
   "source": [
    "df = pd.read_csv(\"data2/meetings.csv\", header=None)\n",
    "df[0] = df[0] + 10000\n",
    "df.to_csv(\"data2/meetings.csv\", index=False, header=False)"
   ]
  },
  {
   "cell_type": "code",
   "execution_count": null,
   "metadata": {},
   "outputs": [],
   "source": []
  }
 ],
 "metadata": {
  "kernelspec": {
   "display_name": "Python 3",
   "language": "python",
   "name": "python3"
  },
  "language_info": {
   "codemirror_mode": {
    "name": "ipython",
    "version": 3
   },
   "file_extension": ".py",
   "mimetype": "text/x-python",
   "name": "python",
   "nbconvert_exporter": "python",
   "pygments_lexer": "ipython3",
   "version": "3.10.7"
  }
 },
 "nbformat": 4,
 "nbformat_minor": 2
}
