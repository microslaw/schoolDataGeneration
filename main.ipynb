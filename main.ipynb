{
 "cells": [
  {
   "cell_type": "code",
   "execution_count": 8,
   "metadata": {},
   "outputs": [
    {
     "name": "stdout",
     "output_type": "stream",
     "text": [
      "The autoreload extension is already loaded. To reload it, use:\n",
      "  %reload_ext autoreload\n"
     ]
    }
   ],
   "source": [
    "%load_ext autoreload\n",
    "%autoreload 2\n",
    "\n",
    "import pandas as pd\n",
    "import numpy as np\n",
    "from utils import defaultCityDistricts, mkdir\n",
    "\n",
    "import classroom\n",
    "import teachers\n",
    "import course\n",
    "import aClass\n",
    "import students\n",
    "import meeting\n",
    "import exams\n",
    "import surveys\n",
    "import attendance\n"
   ]
  },
  {
   "cell_type": "code",
   "execution_count": 3,
   "metadata": {},
   "outputs": [
    {
     "name": "stdout",
     "output_type": "stream",
     "text": [
      "Generating schedule for 8 days between 2022-05-25 and 2022-06-03\n",
      "Starting at 2024-04-09 11:32:19.457629\n"
     ]
    }
   ],
   "source": [
    "#This cell generates data\n",
    "\n",
    "df_classrooms = classroom.generate(357, 999)\n",
    "df_teachers = teachers.generate(300)\n",
    "df_courses = course.generate(300, df_teachers)\n",
    "df_classes, df_courses = aClass.generate(10, df_teachers, df_courses)\n",
    "df_students = students.generate(800, df_classes)\n",
    "# may enter infinite loop; if it happens restart the kernel and run the code again\n",
    "df_meetings = meeting.generate(0, df_courses, df_classrooms, df_classes, \"2022-05-25\", \"2022-06-03\")\n",
    "df_exams = exams.generate(0, df_meetings, df_students)\n",
    "df_surveys = surveys.generate(0, df_meetings, df_students, df_courses)\n",
    "df_attendance = attendance.generate(0, df_meetings, df_students, df_teachers, df_courses)"
   ]
  },
  {
   "cell_type": "code",
   "execution_count": null,
   "metadata": {},
   "outputs": [],
   "source": [
    "#This cell loads data from csv files\n",
    "\n",
    "path = \"data\"\n",
    "\n",
    "df_classrooms = pd.read_csv(f\"{path}/classrooms.csv\")\n",
    "df_teachers = pd.read_csv(f\"{path}/teachers.csv\")\n",
    "df_courses = pd.read_csv(f\"{path}/courses.csv\")\n",
    "df_classes = pd.read_csv(f\"{path}/classes.csv\")\n",
    "df_students = pd.read_csv(f\"{path}/students.csv\")\n",
    "df_meetings = pd.read_csv(f\"{path}/meetings.csv\")\n",
    "df_exams = pd.read_csv(f\"{path}/exams.csv\")\n",
    "df_surveys = pd.read_csv(f\"{path}/surveys.csv\")\n",
    "df_attendance = pd.read_csv(f\"{path}/attendance.csv\")"
   ]
  },
  {
   "cell_type": "code",
   "execution_count": 4,
   "metadata": {},
   "outputs": [
    {
     "name": "stdout",
     "output_type": "stream",
     "text": [
      "Removed 47 classrooms\n",
      "Removed 91 teachers\n",
      "Removed 85 courses\n",
      "Removed 0 classes\n"
     ]
    }
   ],
   "source": [
    "#This cell purges unused rows\n",
    "size =len(df_classrooms)\n",
    "df_classrooms = df_classrooms[df_classrooms[\"RoomNumber\"].isin(df_meetings[\"RoomNumber\"])]\n",
    "df_classrooms_removed = df_classrooms[~df_classrooms[\"RoomNumber\"].isin(df_meetings[\"RoomNumber\"])]\n",
    "print(f\"Removed {size - len(df_classrooms)} classrooms\")\n",
    "\n",
    "size =len(df_teachers)\n",
    "df_teachers = df_teachers[df_teachers[\"tID\"].isin(pd.concat([df_classes[\"tID\"], df_courses[\"tID\"]]).unique())]\n",
    "df_teachers_removed = df_teachers[~df_teachers[\"tID\"].isin(df_classes[\"tID\"] + df_courses[\"tID\"])]\n",
    "print(f\"Removed {size - len(df_teachers)} teachers\")\n",
    "\n",
    "size =len(df_courses)\n",
    "df_courses = df_courses[df_courses[\"cID\"].isin(df_classes[\"courses\"].explode().unique())]\n",
    "df_courses_removed = df_courses[~df_courses[\"cID\"].isin(df_classes[\"courses\"].explode().unique())]\n",
    "print(f\"Removed {size - len(df_courses)} courses\")\n",
    "\n",
    "size =len(df_classes)\n",
    "df_classes = df_classes[df_classes[\"ClassName\"].isin(df_students[\"ClassName\"])]\n",
    "df_courses_classes = df_classes[~df_classes[\"ClassName\"].isin(df_students[\"ClassName\"])]\n",
    "print(f\"Removed {size - len(df_classes)} classes\")"
   ]
  },
  {
   "cell_type": "code",
   "execution_count": 9,
   "metadata": {},
   "outputs": [
    {
     "name": "stdout",
     "output_type": "stream",
     "text": [
      "Directory data already exists\n"
     ]
    }
   ],
   "source": [
    "path = \"data\"\n",
    "headers = True\n",
    "indexing = False\n",
    "\n",
    "mkdir(path)\n",
    "\n",
    "df_students.drop(columns=[\"iq\"]).to_csv(f\"{path}/students.csv\", index=indexing, header=headers)\n",
    "df_classes.drop(columns=[\"Year\", \"courses\"]).to_csv(f\"{path}/classes.csv\", index=indexing, header=headers)\n",
    "df_teachers.to_csv(f\"{path}/teachers.csv\", index=indexing, header=headers)\n",
    "df_courses.to_csv(f\"{path}/courses.csv\", index=indexing, header=headers)\n",
    "df_classrooms.to_csv(f\"{path}/classrooms.csv\", index=indexing, header=headers)\n",
    "df_meetings.drop(columns=[\"StartHour\", \"EndHour\", \"Year\", \"Month\"]).to_csv(f\"{path}/meetings.csv\", index=indexing, header=headers)\n",
    "df_surveys.to_csv(f\"{path}/surveys.csv\", index=indexing, header=headers)\n",
    "df_exams.to_csv(f\"{path}/exams.csv\", index=indexing, header=headers)\n",
    "df_attendance.to_csv(f\"{path}/attendance.csv\", index=indexing, header=headers)\n"
   ]
  },
  {
   "cell_type": "code",
   "execution_count": null,
   "metadata": {},
   "outputs": [],
   "source": [
    "path = \"data\"\n",
    "headers = True\n",
    "indexing = False\n",
    "\n",
    "mkdir(path)\n",
    "\n",
    "df_students.to_csv(f\"{path}/students.csv\", index=indexing, header=headers)\n",
    "df_classes.to_csv(f\"{path}/classes.csv\", index=indexing, header=headers)\n",
    "df_teachers.to_csv(f\"{path}/teachers.csv\", index=indexing, header=headers)\n",
    "df_courses.to_csv(f\"{path}/courses.csv\", index=indexing, header=headers)\n",
    "df_classrooms.to_csv(f\"{path}/classrooms.csv\", index=indexing, header=headers)\n",
    "df_meetings.to_csv(f\"{path}/meetings.csv\", index=indexing, header=headers)\n",
    "df_surveys.to_csv(f\"{path}/surveys.csv\", index=indexing, header=headers)\n",
    "df_exams.to_csv(f\"{path}/exams.csv\", index=indexing, header=headers)\n",
    "df_attendance.to_csv(f\"{path}/attendance.csv\", index=indexing, header=headers)"
   ]
  },
  {
   "cell_type": "code",
   "execution_count": null,
   "metadata": {},
   "outputs": [
    {
     "name": "stdout",
     "output_type": "stream",
     "text": [
      "Update Teachers SET CityDistrict = 'Reda' WHERE tID = 289;\n",
      "Update Teachers SET CityDistrict = 'Redlowo' WHERE tID = 1;\n",
      "Update Teachers SET CityDistrict = 'Gdansk centrum' WHERE tID = 5;\n",
      "Update Teachers SET CityDistrict = 'Gdynia centrum' WHERE tID = 50;\n",
      "Update Teachers SET CityDistrict = 'Reda' WHERE tID = 19;\n",
      "Update Teachers SET CityDistrict = 'Jasien' WHERE tID = 222;\n",
      "Update Teachers SET CityDistrict = 'Lostowice' WHERE tID = 52;\n",
      "Update Teachers SET CityDistrict = 'Gdansk centrum' WHERE tID = 210;\n",
      "Update Teachers SET CityDistrict = 'Wejherowo' WHERE tID = 122;\n",
      "Update Teachers SET CityDistrict = 'Zaspa' WHERE tID = 271;\n",
      "Update Teachers SET CityDistrict = 'Zaspa' WHERE tID = 64;\n",
      "Update Teachers SET CityDistrict = 'Stocznia' WHERE tID = 117;\n",
      "Update Teachers SET CityDistrict = 'Lostowice' WHERE tID = 215;\n",
      "Update Teachers SET CityDistrict = 'Zaspa' WHERE tID = 296;\n",
      "Update Teachers SET CityDistrict = 'Orunia' WHERE tID = 187;\n"
     ]
    }
   ],
   "source": [
    "df = df_teachers.sample(n=15)\n",
    "df[\"CityDistrict2\"] = df[\"CityDistrict\"].apply(lambda x: np.random.choice([y for y in defaultCityDistricts if y != x]))\n",
    "df[\"update\"] = df.apply(lambda x: f\"Update Teachers SET CityDistrict = '{x['CityDistrict2']}' WHERE tID = {x['tID']};\", axis=1)\n",
    "df[\"update\"].to_csv(\"updateTeachers.csv\", index=False, header=False)\n",
    "df = df_students.sample(n=15)\n",
    "df[\"CityDistrict2\"] = df[\"CityDistrict\"].apply(lambda x: np.random.choice([y for y in defaultCityDistricts if y != x]))\n",
    "df[\"update\"] = df.apply(lambda x: f\"Update Students SET CityDistrict = '{x['CityDistrict2']}' WHERE sID = {x['sID']};\", axis=1)\n",
    "\n",
    "df = df_students.sample(n=15)\n",
    "df[\"ClassName2\"] = df[\"ClassName\"].apply(lambda x: np.random.choice([y for y in df_classes[\"ClassName\"].unique() if y != x]))\n",
    "df[\"update\"] = df.apply(lambda x: f\"Update Students SET ClassName = '{x['ClassName']}' WHERE sID = {x['sID']};\", axis=1)\n",
    "df[\"update\"].to_csv(\"updateStudents.csv\", index=False, header=False)\n",
    "\n",
    "df = df_classes.sample(n=15)\n",
    "df[\"tID2\"] = df[\"tID\"].apply(lambda x: np.random.choice([y for y in df_classes[\"ClassName\"].unique() if y != x]))\n",
    "df[\"update\"] = df.apply(lambda x: f\"Update Class SET tID = '{x['tID']}' WHERE ClassName = '{x['ClassName']}';\", axis=1)\n",
    "df[\"update\"].to_csv(\"updateClasses.csv\", index=False, header=False)"
   ]
  },
  {
   "cell_type": "code",
   "execution_count": null,
   "metadata": {},
   "outputs": [],
   "source": []
  }
 ],
 "metadata": {
  "kernelspec": {
   "display_name": "Python 3",
   "language": "python",
   "name": "python3"
  },
  "language_info": {
   "codemirror_mode": {
    "name": "ipython",
    "version": 3
   },
   "file_extension": ".py",
   "mimetype": "text/x-python",
   "name": "python",
   "nbconvert_exporter": "python",
   "pygments_lexer": "ipython3",
   "version": "3.10.7"
  }
 },
 "nbformat": 4,
 "nbformat_minor": 2
}
